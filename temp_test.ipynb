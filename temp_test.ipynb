{
 "cells": [
  {
   "cell_type": "code",
   "execution_count": 5,
   "metadata": {},
   "outputs": [
    {
     "name": "stdout",
     "output_type": "stream",
     "text": [
      "29.287401574803148\n",
      "36.09842519685039\n"
     ]
    }
   ],
   "source": [
    "from funcs import cal_waist_ideal\n",
    "\n",
    "a = cal_waist_ideal(173, \"남자\",False)\n",
    "\n",
    "\n",
    "print(a['waist_min'])\n",
    "print(a['waist_max'])\n",
    "\n"
   ]
  }
 ],
 "metadata": {
  "kernelspec": {
   "display_name": "slimshady",
   "language": "python",
   "name": "python3"
  },
  "language_info": {
   "codemirror_mode": {
    "name": "ipython",
    "version": 3
   },
   "file_extension": ".py",
   "mimetype": "text/x-python",
   "name": "python",
   "nbconvert_exporter": "python",
   "pygments_lexer": "ipython3",
   "version": "3.11.9"
  }
 },
 "nbformat": 4,
 "nbformat_minor": 2
}
